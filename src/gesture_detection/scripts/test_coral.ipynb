{
 "cells": [
  {
   "cell_type": "code",
   "execution_count": 2,
   "metadata": {},
   "outputs": [
    {
     "name": "stdout",
     "output_type": "stream",
     "text": [
      "/home/pumid/Desktop/athome/athome_ws/src/gesture_detection/scripts\n"
     ]
    }
   ],
   "source": [
    "import argparse\n",
    "import time\n",
    "import numpy as np\n",
    "import os\n",
    "from PIL import Image\n",
    "from pycoral.adapters import classify\n",
    "from pycoral.adapters import common\n",
    "from pycoral.utils.dataset import read_label_file\n",
    "from pycoral.utils.edgetpu import make_interpreter, list_edge_tpus\n",
    "\n",
    "print(os.getcwd())"
   ]
  },
  {
   "cell_type": "code",
   "execution_count": 3,
   "metadata": {},
   "outputs": [
    {
     "ename": "ValueError",
     "evalue": "Failed to load delegate from libedgetpu.so.1\n",
     "output_type": "error",
     "traceback": [
      "\u001b[0;31m---------------------------------------------------------------------------\u001b[0m",
      "\u001b[0;31mValueError\u001b[0m                                Traceback (most recent call last)",
      "File \u001b[0;32m~/Desktop/athome/lib/python3.8/site-packages/tflite_runtime/interpreter.py:160\u001b[0m, in \u001b[0;36mload_delegate\u001b[0;34m(library, options)\u001b[0m\n\u001b[1;32m    159\u001b[0m \u001b[39mtry\u001b[39;00m:\n\u001b[0;32m--> 160\u001b[0m   delegate \u001b[39m=\u001b[39m Delegate(library, options)\n\u001b[1;32m    161\u001b[0m \u001b[39mexcept\u001b[39;00m \u001b[39mValueError\u001b[39;00m \u001b[39mas\u001b[39;00m e:\n",
      "File \u001b[0;32m~/Desktop/athome/lib/python3.8/site-packages/tflite_runtime/interpreter.py:119\u001b[0m, in \u001b[0;36mDelegate.__init__\u001b[0;34m(self, library, options)\u001b[0m\n\u001b[1;32m    118\u001b[0m \u001b[39mif\u001b[39;00m \u001b[39mself\u001b[39m\u001b[39m.\u001b[39m_delegate_ptr \u001b[39mis\u001b[39;00m \u001b[39mNone\u001b[39;00m:\n\u001b[0;32m--> 119\u001b[0m   \u001b[39mraise\u001b[39;00m \u001b[39mValueError\u001b[39;00m(capture\u001b[39m.\u001b[39mmessage)\n",
      "\u001b[0;31mValueError\u001b[0m: ",
      "\nDuring handling of the above exception, another exception occurred:\n",
      "\u001b[0;31mValueError\u001b[0m                                Traceback (most recent call last)",
      "Cell \u001b[0;32mIn [3], line 1\u001b[0m\n\u001b[0;32m----> 1\u001b[0m interpreter \u001b[39m=\u001b[39m make_interpreter(model_path_or_content\u001b[39m=\u001b[39;49m\u001b[39m'\u001b[39;49m\u001b[39mmodel/keypoint_classifier/keypoint_classifier.tflite\u001b[39;49m\u001b[39m'\u001b[39;49m)\n\u001b[1;32m      2\u001b[0m interpreter\u001b[39m.\u001b[39mallocate_tensors()\n\u001b[1;32m      3\u001b[0m interpreter\u001b[39m.\u001b[39mget_input_details()\n",
      "File \u001b[0;32m~/Desktop/athome/lib/python3.8/site-packages/pycoral/utils/edgetpu.py:87\u001b[0m, in \u001b[0;36mmake_interpreter\u001b[0;34m(model_path_or_content, device, delegate)\u001b[0m\n\u001b[1;32m     85\u001b[0m   delegates \u001b[39m=\u001b[39m [delegate]\n\u001b[1;32m     86\u001b[0m \u001b[39melse\u001b[39;00m:\n\u001b[0;32m---> 87\u001b[0m   delegates \u001b[39m=\u001b[39m [load_edgetpu_delegate({\u001b[39m'\u001b[39;49m\u001b[39mdevice\u001b[39;49m\u001b[39m'\u001b[39;49m: device} \u001b[39mif\u001b[39;49;00m device \u001b[39melse\u001b[39;49;00m {})]\n\u001b[1;32m     88\u001b[0m \u001b[39mif\u001b[39;00m \u001b[39misinstance\u001b[39m(model_path_or_content, \u001b[39mbytes\u001b[39m):\n\u001b[1;32m     89\u001b[0m   \u001b[39mreturn\u001b[39;00m tflite\u001b[39m.\u001b[39mInterpreter(\n\u001b[1;32m     90\u001b[0m       model_content\u001b[39m=\u001b[39mmodel_path_or_content, experimental_delegates\u001b[39m=\u001b[39mdelegates)\n",
      "File \u001b[0;32m~/Desktop/athome/lib/python3.8/site-packages/pycoral/utils/edgetpu.py:52\u001b[0m, in \u001b[0;36mload_edgetpu_delegate\u001b[0;34m(options)\u001b[0m\n\u001b[1;32m     41\u001b[0m \u001b[39mdef\u001b[39;00m \u001b[39mload_edgetpu_delegate\u001b[39m(options\u001b[39m=\u001b[39m\u001b[39mNone\u001b[39;00m):\n\u001b[1;32m     42\u001b[0m   \u001b[39m\"\"\"Loads the Edge TPU delegate with the given options.\u001b[39;00m\n\u001b[1;32m     43\u001b[0m \n\u001b[1;32m     44\u001b[0m \u001b[39m  Args:\u001b[39;00m\n\u001b[0;32m   (...)\u001b[0m\n\u001b[1;32m     50\u001b[0m \u001b[39m    The Edge TPU delegate object.\u001b[39;00m\n\u001b[1;32m     51\u001b[0m \u001b[39m  \"\"\"\u001b[39;00m\n\u001b[0;32m---> 52\u001b[0m   \u001b[39mreturn\u001b[39;00m tflite\u001b[39m.\u001b[39;49mload_delegate(_EDGETPU_SHARED_LIB, options \u001b[39mor\u001b[39;49;00m {})\n",
      "File \u001b[0;32m~/Desktop/athome/lib/python3.8/site-packages/tflite_runtime/interpreter.py:162\u001b[0m, in \u001b[0;36mload_delegate\u001b[0;34m(library, options)\u001b[0m\n\u001b[1;32m    160\u001b[0m   delegate \u001b[39m=\u001b[39m Delegate(library, options)\n\u001b[1;32m    161\u001b[0m \u001b[39mexcept\u001b[39;00m \u001b[39mValueError\u001b[39;00m \u001b[39mas\u001b[39;00m e:\n\u001b[0;32m--> 162\u001b[0m   \u001b[39mraise\u001b[39;00m \u001b[39mValueError\u001b[39;00m(\u001b[39m'\u001b[39m\u001b[39mFailed to load delegate from \u001b[39m\u001b[39m{}\u001b[39;00m\u001b[39m\\n\u001b[39;00m\u001b[39m{}\u001b[39;00m\u001b[39m'\u001b[39m\u001b[39m.\u001b[39mformat(\n\u001b[1;32m    163\u001b[0m       library, \u001b[39mstr\u001b[39m(e)))\n\u001b[1;32m    164\u001b[0m \u001b[39mreturn\u001b[39;00m delegate\n",
      "\u001b[0;31mValueError\u001b[0m: Failed to load delegate from libedgetpu.so.1\n"
     ]
    }
   ],
   "source": [
    "interpreter = make_interpreter(model_path_or_content='model/keypoint_classifier/keypoint_classifier.tflite')\n",
    "interpreter.allocate_tensors()\n",
    "interpreter.get_input_details()\n",
    "interpreter.get_output_details()\n",
    "interpreter.set_tensor\n",
    "interpreter.get_tensor"
   ]
  },
  {
   "cell_type": "code",
   "execution_count": null,
   "metadata": {},
   "outputs": [],
   "source": []
  }
 ],
 "metadata": {
  "kernelspec": {
   "display_name": "Python 3.8.10 ('athome')",
   "language": "python",
   "name": "python3"
  },
  "language_info": {
   "codemirror_mode": {
    "name": "ipython",
    "version": 3
   },
   "file_extension": ".py",
   "mimetype": "text/x-python",
   "name": "python",
   "nbconvert_exporter": "python",
   "pygments_lexer": "ipython3",
   "version": "3.8.10"
  },
  "orig_nbformat": 4,
  "vscode": {
   "interpreter": {
    "hash": "5b67baa72fc1c84083d0ff48b22fcea4e2cd70c93b18c793309c5d605d5c26f0"
   }
  }
 },
 "nbformat": 4,
 "nbformat_minor": 2
}
